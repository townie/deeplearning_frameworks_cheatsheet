{
 "cells": [
  {
   "cell_type": "code",
   "execution_count": 1,
   "metadata": {},
   "outputs": [],
   "source": [
    "from sklearn.datasets import load_iris\n",
    "from sklearn.model_selection import train_test_split\n",
    "\n",
    "from torch.utils.data import Dataset, DataLoader\n",
    "\n",
    "import torch\n",
    "\n",
    "import torch.nn as nn\n",
    "import torch.nn.functional as F\n",
    "from torch.optim import SGD"
   ]
  },
  {
   "cell_type": "code",
   "execution_count": 2,
   "metadata": {},
   "outputs": [],
   "source": [
    "iris = load_iris()"
   ]
  },
  {
   "cell_type": "code",
   "execution_count": 3,
   "metadata": {},
   "outputs": [],
   "source": [
    "X_train, X_test, y_train, y_test =  train_test_split(iris.data, iris.target, random_state=1)\n",
    "\n",
    "# Convert to pytorch tensors\n",
    "X_train, y_train, X_test, y_test = map(\n",
    "    torch.tensor, (X_train, y_train, X_test, y_test)\n",
    ")\n",
    "\n",
    "X_train = X_train.float()\n",
    "y_train = y_train.long()\n",
    "X_test = X_test.float()\n",
    "y_test = y_test.long()\n"
   ]
  },
  {
   "cell_type": "code",
   "execution_count": 4,
   "metadata": {},
   "outputs": [
    {
     "data": {
      "text/plain": [
       "torch.Size([112, 4])"
      ]
     },
     "execution_count": 4,
     "metadata": {},
     "output_type": "execute_result"
    }
   ],
   "source": [
    "X_train.shape"
   ]
  },
  {
   "cell_type": "code",
   "execution_count": 5,
   "metadata": {},
   "outputs": [],
   "source": [
    "class IrisDataset(Dataset):\n",
    "    def __init__(self, X, y):\n",
    "        #janky but simple\n",
    "        self.X = X\n",
    "        self.y = y\n",
    "        \n",
    "    def __len__(self):\n",
    "        return len(self.y)\n",
    "    \n",
    "    def __getitem(self, idx):\n",
    "        return {'x': self.X[idx], 'y': self.y[idx] }"
   ]
  },
  {
   "cell_type": "code",
   "execution_count": 6,
   "metadata": {},
   "outputs": [],
   "source": [
    "class IrisNet(nn.Module):\n",
    "    def __init__(self, inputshape, outputshape, hiddenunits=10):\n",
    "        super(IrisNet, self).__init__()\n",
    "        self.input_layer = nn.Linear(inputshape, hiddenunits)\n",
    "        self.hidden_layer = nn.Linear(hiddenunits, hiddenunits)\n",
    "        self.output_layer = nn.Linear(hiddenunits, outputshape)\n",
    "        self.softmax = nn.LogSoftmax(dim=1)\n",
    "\n",
    "    def forward(self, X):\n",
    "        X = F.relu(self.input_layer(X))\n",
    "        X = self.hidden_layer(X)\n",
    "        X = self.output_layer(X)\n",
    "        X = self.softmax(X)\n",
    "        \n",
    "        return X"
   ]
  },
  {
   "cell_type": "code",
   "execution_count": 7,
   "metadata": {},
   "outputs": [
    {
     "data": {
      "text/plain": [
       "IrisNet(\n",
       "  (input_layer): Linear(in_features=4, out_features=10, bias=True)\n",
       "  (hidden_layer): Linear(in_features=10, out_features=10, bias=True)\n",
       "  (output_layer): Linear(in_features=10, out_features=3, bias=True)\n",
       "  (softmax): LogSoftmax()\n",
       ")"
      ]
     },
     "execution_count": 7,
     "metadata": {},
     "output_type": "execute_result"
    }
   ],
   "source": [
    "net = IrisNet(4, 3)\n",
    "net"
   ]
  },
  {
   "cell_type": "code",
   "execution_count": 20,
   "metadata": {},
   "outputs": [],
   "source": [
    "criterion = nn.CrossEntropyLoss()# cross entropy loss\n",
    "optimizer = SGD(net.parameters(), lr=0.001)\n"
   ]
  },
  {
   "cell_type": "code",
   "execution_count": null,
   "metadata": {},
   "outputs": [],
   "source": [
    "\n"
   ]
  },
  {
   "cell_type": "code",
   "execution_count": 21,
   "metadata": {},
   "outputs": [],
   "source": []
  },
  {
   "cell_type": "code",
   "execution_count": 22,
   "metadata": {},
   "outputs": [],
   "source": [
    "train_ds = TensorDataset(X_train, y_train)\n"
   ]
  },
  {
   "cell_type": "code",
   "execution_count": 23,
   "metadata": {},
   "outputs": [
    {
     "data": {
      "text/plain": [
       "<torch.utils.data.dataset.TensorDataset at 0x7fd5d30630f0>"
      ]
     },
     "execution_count": 23,
     "metadata": {},
     "output_type": "execute_result"
    }
   ],
   "source": [
    "train_ds"
   ]
  },
  {
   "cell_type": "code",
   "execution_count": null,
   "metadata": {},
   "outputs": [],
   "source": []
  },
  {
   "cell_type": "code",
   "execution_count": null,
   "metadata": {},
   "outputs": [],
   "source": []
  },
  {
   "cell_type": "code",
   "execution_count": 24,
   "metadata": {},
   "outputs": [
    {
     "data": {
      "text/plain": [
       "tensor([1, 2, 2, 0, 2, 2, 1, 2, 0, 0, 0, 1, 0, 0, 2, 2, 2, 2, 2, 1, 2, 1, 0, 2,\n",
       "        2, 0, 0, 2, 0, 2, 2, 1, 1, 2, 2, 0, 1, 1, 2, 1, 2, 1, 0, 0, 0, 2, 0, 1,\n",
       "        2, 2, 0, 0, 1, 0, 2, 1, 2, 2, 1, 2, 2, 1, 0, 1, 0, 1, 1, 0, 1, 0, 0, 2,\n",
       "        2, 2, 0, 0, 1, 0, 2, 0, 2, 2, 0, 2, 0, 1, 0, 1, 1, 0, 0, 1, 0, 1, 1, 0,\n",
       "        1, 1, 1, 1, 2, 0, 0, 2, 1, 2, 1, 2, 2, 1, 2, 0])"
      ]
     },
     "execution_count": 24,
     "metadata": {},
     "output_type": "execute_result"
    }
   ],
   "source": [
    "y_train"
   ]
  },
  {
   "cell_type": "code",
   "execution_count": null,
   "metadata": {},
   "outputs": [],
   "source": []
  },
  {
   "cell_type": "code",
   "execution_count": null,
   "metadata": {},
   "outputs": [],
   "source": []
  },
  {
   "cell_type": "code",
   "execution_count": null,
   "metadata": {},
   "outputs": [],
   "source": [
    "\n"
   ]
  },
  {
   "cell_type": "code",
   "execution_count": null,
   "metadata": {},
   "outputs": [],
   "source": []
  },
  {
   "cell_type": "code",
   "execution_count": null,
   "metadata": {},
   "outputs": [],
   "source": []
  },
  {
   "cell_type": "code",
   "execution_count": null,
   "metadata": {},
   "outputs": [],
   "source": []
  },
  {
   "cell_type": "code",
   "execution_count": null,
   "metadata": {},
   "outputs": [],
   "source": []
  },
  {
   "cell_type": "code",
   "execution_count": 25,
   "metadata": {},
   "outputs": [],
   "source": [
    "loss_func = F.cross_entropy\n"
   ]
  },
  {
   "cell_type": "code",
   "execution_count": 26,
   "metadata": {},
   "outputs": [],
   "source": [
    "def accuracy(out, yb):\n",
    "    preds = torch.argmax(out, dim=1)\n",
    "    return (preds == yb).float().mean()"
   ]
  },
  {
   "cell_type": "code",
   "execution_count": 27,
   "metadata": {},
   "outputs": [],
   "source": [
    "train_dl = DataLoader(train_ds, batch_size=2, shuffle=True)\n"
   ]
  },
  {
   "cell_type": "code",
   "execution_count": null,
   "metadata": {},
   "outputs": [],
   "source": []
  },
  {
   "cell_type": "code",
   "execution_count": 28,
   "metadata": {},
   "outputs": [],
   "source": [
    "epochs = 100"
   ]
  },
  {
   "cell_type": "code",
   "execution_count": 29,
   "metadata": {},
   "outputs": [
    {
     "name": "stdout",
     "output_type": "stream",
     "text": [
      "tensor(0.6805, grad_fn=<NllLossBackward>) tensor(1.)\n",
      "tensor(1.0091, grad_fn=<NllLossBackward>) tensor(0.5000)\n",
      "tensor(1.0641, grad_fn=<NllLossBackward>) tensor(0.5000)\n",
      "tensor(0.9663, grad_fn=<NllLossBackward>) tensor(0.5000)\n",
      "tensor(0.8552, grad_fn=<NllLossBackward>) tensor(1.)\n",
      "tensor(0.9222, grad_fn=<NllLossBackward>) tensor(1.)\n",
      "tensor(0.9212, grad_fn=<NllLossBackward>) tensor(1.)\n",
      "tensor(1.0020, grad_fn=<NllLossBackward>) tensor(0.5000)\n",
      "tensor(0.7544, grad_fn=<NllLossBackward>) tensor(1.)\n",
      "tensor(0.7291, grad_fn=<NllLossBackward>) tensor(1.)\n",
      "tensor(0.8627, grad_fn=<NllLossBackward>) tensor(0.5000)\n",
      "tensor(0.9239, grad_fn=<NllLossBackward>) tensor(0.5000)\n",
      "tensor(0.6266, grad_fn=<NllLossBackward>) tensor(1.)\n",
      "tensor(0.9200, grad_fn=<NllLossBackward>) tensor(0.5000)\n",
      "tensor(0.8394, grad_fn=<NllLossBackward>) tensor(0.5000)\n",
      "tensor(0.8141, grad_fn=<NllLossBackward>) tensor(0.5000)\n",
      "tensor(0.7730, grad_fn=<NllLossBackward>) tensor(0.5000)\n",
      "tensor(0.5319, grad_fn=<NllLossBackward>) tensor(1.)\n",
      "tensor(1.0838, grad_fn=<NllLossBackward>) tensor(0.)\n",
      "tensor(0.5468, grad_fn=<NllLossBackward>) tensor(1.)\n",
      "tensor(0.7658, grad_fn=<NllLossBackward>) tensor(0.5000)\n",
      "tensor(0.4822, grad_fn=<NllLossBackward>) tensor(1.)\n",
      "tensor(0.5016, grad_fn=<NllLossBackward>) tensor(1.)\n",
      "tensor(0.7933, grad_fn=<NllLossBackward>) tensor(0.5000)\n",
      "tensor(0.7888, grad_fn=<NllLossBackward>) tensor(0.5000)\n",
      "tensor(0.6896, grad_fn=<NllLossBackward>) tensor(0.5000)\n",
      "tensor(0.3716, grad_fn=<NllLossBackward>) tensor(1.)\n",
      "tensor(0.4095, grad_fn=<NllLossBackward>) tensor(1.)\n",
      "tensor(0.3659, grad_fn=<NllLossBackward>) tensor(1.)\n",
      "tensor(0.3308, grad_fn=<NllLossBackward>) tensor(1.)\n",
      "tensor(0.4150, grad_fn=<NllLossBackward>) tensor(1.)\n",
      "tensor(0.3491, grad_fn=<NllLossBackward>) tensor(1.)\n",
      "tensor(0.4560, grad_fn=<NllLossBackward>) tensor(1.)\n",
      "tensor(0.2646, grad_fn=<NllLossBackward>) tensor(1.)\n",
      "tensor(0.2233, grad_fn=<NllLossBackward>) tensor(1.)\n",
      "tensor(0.4441, grad_fn=<NllLossBackward>) tensor(1.)\n",
      "tensor(0.5370, grad_fn=<NllLossBackward>) tensor(0.5000)\n",
      "tensor(0.7007, grad_fn=<NllLossBackward>) tensor(0.5000)\n",
      "tensor(0.1946, grad_fn=<NllLossBackward>) tensor(1.)\n",
      "tensor(0.2641, grad_fn=<NllLossBackward>) tensor(1.)\n",
      "tensor(0.3595, grad_fn=<NllLossBackward>) tensor(1.)\n",
      "tensor(0.9078, grad_fn=<NllLossBackward>) tensor(0.)\n",
      "tensor(0.3331, grad_fn=<NllLossBackward>) tensor(1.)\n",
      "tensor(0.2563, grad_fn=<NllLossBackward>) tensor(1.)\n",
      "tensor(0.6709, grad_fn=<NllLossBackward>) tensor(0.5000)\n",
      "tensor(0.4666, grad_fn=<NllLossBackward>) tensor(1.)\n",
      "tensor(0.6337, grad_fn=<NllLossBackward>) tensor(1.)\n",
      "tensor(0.2445, grad_fn=<NllLossBackward>) tensor(1.)\n",
      "tensor(0.4241, grad_fn=<NllLossBackward>) tensor(1.)\n",
      "tensor(0.2504, grad_fn=<NllLossBackward>) tensor(1.)\n",
      "tensor(0.7443, grad_fn=<NllLossBackward>) tensor(0.5000)\n",
      "tensor(0.3497, grad_fn=<NllLossBackward>) tensor(1.)\n",
      "tensor(0.1030, grad_fn=<NllLossBackward>) tensor(1.)\n",
      "tensor(0.4406, grad_fn=<NllLossBackward>) tensor(0.5000)\n",
      "tensor(0.3973, grad_fn=<NllLossBackward>) tensor(1.)\n",
      "tensor(0.6305, grad_fn=<NllLossBackward>) tensor(0.5000)\n",
      "tensor(0.1754, grad_fn=<NllLossBackward>) tensor(1.)\n",
      "tensor(0.4844, grad_fn=<NllLossBackward>) tensor(1.)\n",
      "tensor(0.5633, grad_fn=<NllLossBackward>) tensor(0.5000)\n",
      "tensor(0.3786, grad_fn=<NllLossBackward>) tensor(1.)\n",
      "tensor(0.6269, grad_fn=<NllLossBackward>) tensor(1.)\n",
      "tensor(0.1835, grad_fn=<NllLossBackward>) tensor(1.)\n",
      "tensor(0.1740, grad_fn=<NllLossBackward>) tensor(1.)\n",
      "tensor(0.4791, grad_fn=<NllLossBackward>) tensor(1.)\n",
      "tensor(0.6073, grad_fn=<NllLossBackward>) tensor(1.)\n",
      "tensor(0.3462, grad_fn=<NllLossBackward>) tensor(1.)\n",
      "tensor(0.7114, grad_fn=<NllLossBackward>) tensor(0.5000)\n",
      "tensor(0.1955, grad_fn=<NllLossBackward>) tensor(1.)\n",
      "tensor(0.1866, grad_fn=<NllLossBackward>) tensor(1.)\n",
      "tensor(0.4942, grad_fn=<NllLossBackward>) tensor(0.5000)\n",
      "tensor(0.2997, grad_fn=<NllLossBackward>) tensor(1.)\n",
      "tensor(0.2885, grad_fn=<NllLossBackward>) tensor(1.)\n",
      "tensor(0.3711, grad_fn=<NllLossBackward>) tensor(1.)\n",
      "tensor(0.4653, grad_fn=<NllLossBackward>) tensor(1.)\n",
      "tensor(0.3569, grad_fn=<NllLossBackward>) tensor(1.)\n",
      "tensor(0.7610, grad_fn=<NllLossBackward>) tensor(0.5000)\n",
      "tensor(0.2713, grad_fn=<NllLossBackward>) tensor(1.)\n",
      "tensor(0.0386, grad_fn=<NllLossBackward>) tensor(1.)\n",
      "tensor(0.2254, grad_fn=<NllLossBackward>) tensor(1.)\n",
      "tensor(0.1715, grad_fn=<NllLossBackward>) tensor(1.)\n",
      "tensor(0.1709, grad_fn=<NllLossBackward>) tensor(1.)\n",
      "tensor(0.1495, grad_fn=<NllLossBackward>) tensor(1.)\n",
      "tensor(0.1165, grad_fn=<NllLossBackward>) tensor(1.)\n",
      "tensor(0.2739, grad_fn=<NllLossBackward>) tensor(1.)\n",
      "tensor(0.4340, grad_fn=<NllLossBackward>) tensor(1.)\n",
      "tensor(0.2270, grad_fn=<NllLossBackward>) tensor(1.)\n",
      "tensor(0.2258, grad_fn=<NllLossBackward>) tensor(1.)\n",
      "tensor(0.2374, grad_fn=<NllLossBackward>) tensor(1.)\n",
      "tensor(0.2310, grad_fn=<NllLossBackward>) tensor(1.)\n",
      "tensor(0.4117, grad_fn=<NllLossBackward>) tensor(1.)\n",
      "tensor(0.3654, grad_fn=<NllLossBackward>) tensor(1.)\n",
      "tensor(0.1560, grad_fn=<NllLossBackward>) tensor(1.)\n",
      "tensor(0.7128, grad_fn=<NllLossBackward>) tensor(0.5000)\n",
      "tensor(0.3094, grad_fn=<NllLossBackward>) tensor(1.)\n",
      "tensor(0.1679, grad_fn=<NllLossBackward>) tensor(1.)\n",
      "tensor(0.1212, grad_fn=<NllLossBackward>) tensor(1.)\n",
      "tensor(0.3016, grad_fn=<NllLossBackward>) tensor(1.)\n",
      "tensor(0.1213, grad_fn=<NllLossBackward>) tensor(1.)\n",
      "tensor(0.3230, grad_fn=<NllLossBackward>) tensor(1.)\n",
      "tensor(0.1591, grad_fn=<NllLossBackward>) tensor(1.)\n"
     ]
    }
   ],
   "source": [
    "for epoch in range(epochs):\n",
    "    for xb, yb in train_dl:\n",
    "        pred = net(xb)\n",
    "        loss = loss_func(pred, yb)\n",
    "\n",
    "        loss.backward()\n",
    "        optimizer.step()\n",
    "        optimizer.zero_grad()\n",
    "\n",
    "    print(loss_func(net(xb), yb), accuracy(pred, yb))"
   ]
  },
  {
   "cell_type": "code",
   "execution_count": 30,
   "metadata": {},
   "outputs": [
    {
     "data": {
      "text/plain": [
       "tensor(1.)"
      ]
     },
     "execution_count": 30,
     "metadata": {},
     "output_type": "execute_result"
    }
   ],
   "source": [
    "accuracy(pred, yb)"
   ]
  },
  {
   "cell_type": "code",
   "execution_count": null,
   "metadata": {},
   "outputs": [],
   "source": []
  },
  {
   "cell_type": "code",
   "execution_count": 31,
   "metadata": {},
   "outputs": [],
   "source": [
    "y_test_pred = net(X_test)"
   ]
  },
  {
   "cell_type": "code",
   "execution_count": 19,
   "metadata": {},
   "outputs": [
    {
     "data": {
      "text/plain": [
       "tensor([0, 1, 1, 0, 2, 1, 2, 0, 0, 2, 1, 0, 2, 1, 1, 0, 1, 1, 0, 0, 1, 1, 1, 0,\n",
       "        2, 1, 0, 0, 1, 2, 1, 2, 1, 2, 2, 0, 1, 0])"
      ]
     },
     "execution_count": 19,
     "metadata": {},
     "output_type": "execute_result"
    }
   ],
   "source": [
    "y_test"
   ]
  },
  {
   "cell_type": "code",
   "execution_count": 39,
   "metadata": {},
   "outputs": [],
   "source": [
    "def pred_vs(y_test_pred, y_test):\n",
    "    preds = torch.argmax(y_test_pred, dim=1)\n",
    "    return (preds == y_test)"
   ]
  },
  {
   "cell_type": "code",
   "execution_count": 40,
   "metadata": {},
   "outputs": [
    {
     "data": {
      "text/plain": [
       "tensor([1, 1, 1, 1, 1, 1, 1, 1, 1, 1, 1, 1, 1, 1, 1, 1, 1, 1, 1, 1, 1, 1, 1, 1,\n",
       "        1, 1, 1, 1, 1, 1, 1, 1, 1, 1, 1, 1, 1, 1], dtype=torch.uint8)"
      ]
     },
     "execution_count": 40,
     "metadata": {},
     "output_type": "execute_result"
    }
   ],
   "source": [
    "pred_vs(y_test_pred, y_test)"
   ]
  },
  {
   "cell_type": "code",
   "execution_count": 34,
   "metadata": {},
   "outputs": [
    {
     "data": {
      "text/plain": [
       "tensor([[ -0.0142,  -4.2595, -11.5616],\n",
       "        [ -1.7029,  -0.3196,  -2.3924],\n",
       "        [ -3.6162,  -0.2552,  -1.6178],\n",
       "        [ -0.0196,  -3.9454, -10.7404],\n",
       "        [ -7.6268,  -1.0200,  -0.4480],\n",
       "        [ -4.4146,  -0.4257,  -1.0948],\n",
       "        [ -6.9802,  -1.0655,  -0.4239],\n",
       "        [ -0.0352,  -3.3677,  -9.4710],\n",
       "        [ -0.0338,  -3.4085,  -9.2188],\n",
       "        [ -8.5853,  -1.6668,  -0.2095],\n",
       "        [ -3.9737,  -0.4528,  -1.0632],\n",
       "        [ -0.0212,  -3.8672, -10.5520],\n",
       "        [ -8.8157,  -1.7118,  -0.1993],\n",
       "        [ -3.8503,  -0.3083,  -1.4104],\n",
       "        [ -4.5468,  -0.5127,  -0.9402],\n",
       "        [ -0.0355,  -3.3598,  -9.0182],\n",
       "        [ -3.3556,  -0.3151,  -1.4466],\n",
       "        [ -4.6644,  -0.6159,  -0.7975],\n",
       "        [ -0.0243,  -3.7292, -10.1792],\n",
       "        [ -0.0236,  -3.7584, -10.0282],\n",
       "        [ -4.4469,  -0.5866,  -0.8392],\n",
       "        [ -4.8141,  -0.6988,  -0.7038],\n",
       "        [ -5.5766,  -0.6504,  -0.7457],\n",
       "        [ -0.0248,  -3.7120, -10.0200],\n",
       "        [ -7.7542,  -1.2624,  -0.3333],\n",
       "        [ -3.5419,  -0.3538,  -1.3130],\n",
       "        [ -0.0178,  -4.0404, -11.0596],\n",
       "        [ -0.0240,  -3.7415, -10.1873],\n",
       "        [ -4.4329,  -0.4726,  -1.0086],\n",
       "        [ -7.3610,  -1.3748,  -0.2924],\n",
       "        [ -4.3336,  -0.4457,  -1.0599],\n",
       "        [ -9.3763,  -1.7670,  -0.1875],\n",
       "        [ -3.1918,  -0.3180,  -1.4642],\n",
       "        [ -9.0630,  -2.0257,  -0.1416],\n",
       "        [ -9.0078,  -2.1967,  -0.1180],\n",
       "        [ -0.0208,  -3.8851, -10.5228],\n",
       "        [ -4.1939,  -0.5279,  -0.9287],\n",
       "        [ -0.0219,  -3.8351, -10.3074]], grad_fn=<LogSoftmaxBackward>)"
      ]
     },
     "execution_count": 34,
     "metadata": {},
     "output_type": "execute_result"
    }
   ],
   "source": [
    "y_test_pred"
   ]
  },
  {
   "cell_type": "code",
   "execution_count": 35,
   "metadata": {},
   "outputs": [
    {
     "data": {
      "text/plain": [
       "tensor([0, 1, 1, 0, 2, 1, 2, 0, 0, 2, 1, 0, 2, 1, 1, 0, 1, 1, 0, 0, 1, 1, 1, 0,\n",
       "        2, 1, 0, 0, 1, 2, 1, 2, 1, 2, 2, 0, 1, 0])"
      ]
     },
     "execution_count": 35,
     "metadata": {},
     "output_type": "execute_result"
    }
   ],
   "source": [
    " torch.argmax(y_test_pred, dim=1)"
   ]
  },
  {
   "cell_type": "code",
   "execution_count": 43,
   "metadata": {},
   "outputs": [
    {
     "data": {
      "text/plain": [
       "tensor([0, 1, 1, 0, 2, 1, 2, 0, 0, 2, 1, 0, 2, 1, 1, 0, 1, 1, 0, 0, 1, 1, 1, 0,\n",
       "        2, 1, 0, 0, 1, 2, 1, 2, 1, 2, 2, 0, 1, 0])"
      ]
     },
     "execution_count": 43,
     "metadata": {},
     "output_type": "execute_result"
    }
   ],
   "source": [
    "preds = torch.argmax(y_test_pred, dim=1)\n",
    "preds"
   ]
  },
  {
   "cell_type": "code",
   "execution_count": 42,
   "metadata": {},
   "outputs": [
    {
     "data": {
      "text/plain": [
       "tensor([0, 1, 1, 0, 2, 1, 2, 0, 0, 2, 1, 0, 2, 1, 1, 0, 1, 1, 0, 0, 1, 1, 1, 0,\n",
       "        2, 1, 0, 0, 1, 2, 1, 2, 1, 2, 2, 0, 1, 0])"
      ]
     },
     "execution_count": 42,
     "metadata": {},
     "output_type": "execute_result"
    }
   ],
   "source": [
    "y_test"
   ]
  },
  {
   "cell_type": "code",
   "execution_count": null,
   "metadata": {},
   "outputs": [],
   "source": []
  },
  {
   "cell_type": "code",
   "execution_count": null,
   "metadata": {},
   "outputs": [],
   "source": []
  },
  {
   "cell_type": "code",
   "execution_count": null,
   "metadata": {},
   "outputs": [],
   "source": []
  },
  {
   "cell_type": "code",
   "execution_count": null,
   "metadata": {},
   "outputs": [],
   "source": []
  },
  {
   "cell_type": "code",
   "execution_count": null,
   "metadata": {},
   "outputs": [],
   "source": []
  },
  {
   "cell_type": "code",
   "execution_count": null,
   "metadata": {},
   "outputs": [],
   "source": []
  },
  {
   "cell_type": "code",
   "execution_count": null,
   "metadata": {},
   "outputs": [],
   "source": []
  },
  {
   "cell_type": "code",
   "execution_count": null,
   "metadata": {},
   "outputs": [],
   "source": []
  },
  {
   "cell_type": "code",
   "execution_count": null,
   "metadata": {},
   "outputs": [],
   "source": []
  },
  {
   "cell_type": "code",
   "execution_count": null,
   "metadata": {},
   "outputs": [],
   "source": []
  }
 ],
 "metadata": {
  "kernelspec": {
   "display_name": "Python 3",
   "language": "python",
   "name": "python3"
  },
  "language_info": {
   "codemirror_mode": {
    "name": "ipython",
    "version": 3
   },
   "file_extension": ".py",
   "mimetype": "text/x-python",
   "name": "python",
   "nbconvert_exporter": "python",
   "pygments_lexer": "ipython3",
   "version": "3.6.7"
  }
 },
 "nbformat": 4,
 "nbformat_minor": 2
}
